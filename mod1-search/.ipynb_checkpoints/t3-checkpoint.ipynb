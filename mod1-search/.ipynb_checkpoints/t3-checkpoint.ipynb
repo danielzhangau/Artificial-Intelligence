{
 "cells": [
  {
   "cell_type": "markdown",
   "metadata": {},
   "source": [
    "# Tutorial 3"
   ]
  },
  {
   "cell_type": "markdown",
   "metadata": {},
   "source": [
    "In this tutorial we will be again implementing BFS for a gridworld problem, as well as iterative deepening, and A*. Lets start by importing things we will need."
   ]
  },
  {
   "cell_type": "code",
   "execution_count": null,
   "metadata": {},
   "outputs": [],
   "source": [
    "import queue\n"
   ]
  },
  {
   "cell_type": "markdown",
   "metadata": {},
   "source": [
    "## Exercise 3.1"
   ]
  },
  {
   "cell_type": "markdown",
   "metadata": {},
   "source": [
    "Now lets consider our agent design, here we will create our state representation and transition function, as well as define some costs and heuristics we will use for UCS and A*.\n",
    "\n",
    "The only thing that changes for our agent is the x,y corrdinates (coord), so this will be our state, however it is still useful to keep track of a few other things. The number of rows and columns in the grid, an id representation that we can use to compare different objects, and the cost. "
   ]
  },
  {
   "cell_type": "markdown",
   "metadata": {},
   "source": [
    "In the transition (step) function we again take in a state, determine its validity, and create a new state, we can check its validity by determining if the resulting state given an action would be coincidental with the coordinates of an obstacle."
   ]
  },
  {
   "cell_type": "markdown",
   "metadata": {},
   "source": [
    "Lastly we have some functions for overriding the equality and less than operators and estimating the heuristic. In this case we will treate the heuristic as the manhattan distance between the current position and the destination, which is also the number of cells between the current position and destination. In order for this heuristic to be admissable it needs to not overrestimate the true lowest cost from the currrent position to the destination, in Exercise 3.2, the true lowest cost is the lowest number amongst all paths to the destination, taking the sum of the costs for each grid element. Since the lowest cost for any element is 1,the manhattan distance is indeed admissable.   "
   ]
  },
  {
   "cell_type": "code",
   "execution_count": null,
   "metadata": {},
   "outputs": [],
   "source": [
    "class GridWorldState():\n",
    "    \n",
    "    def __init__(self, coord, cost, obstacle_coords = [], cost_map = []):\n",
    "        self.ncol = self.nrow = 9\n",
    "        self.id = coord\n",
    "        self.coord = coord \n",
    "        self.cost = cost \n",
    "        self.total_cost = cost\n",
    "        # Ecercise 3.1\n",
    "        self.obstacle_coords = obstacle_coords\n",
    "        # Exercise 3.2\n",
    "        self.cost_map = cost_map\n",
    "        \n",
    "    def step(self, action):\n",
    "        row, col = self.coord\n",
    "        next_row, next_col = row, col\n",
    "\n",
    "        if action == 'L': next_col = max(col-1, 0)\n",
    "        elif action == 'R': next_col = min(col+1, self.ncol-1)\n",
    "        elif action == 'U': next_row = max(row-1, 0)\n",
    "        elif action == 'D': next_row = min(row+1, self.nrow-1)\n",
    "\n",
    "        next_state_coord = (next_row, next_col)\n",
    "\n",
    "        # Exercise 3.1\n",
    "        if next_state_coord in self.obstacle_coords:\n",
    "            next_state_coord = self.coord\n",
    "\n",
    "        # Exercise 3.2\n",
    "        next_state_cost = 0\n",
    "        if self.cost_map:\n",
    "            next_state_cost = self.cost_map[next_state_coord[0]][next_state_coord[1]]\n",
    "        \n",
    "        next_state = GridWorldState(next_state_coord, next_state_cost, self.obstacle_coords, self.cost_map)\n",
    "        return next_state\n",
    "\n",
    "    def estimate_cost_to_go(self, goal):\n",
    "        cost_to_go_estimate = abs(goal.coord[0] - self.coord[0])\n",
    "        cost_to_go_estimate += abs(goal.coord[1] - self.coord[1])\n",
    "        return cost_to_go_estimate\n",
    "\n",
    "    def __eq__(self, other):\n",
    "        return self.id==other.id\n",
    "\n",
    "    def __lt__(self, other):\n",
    "        return self.total_cost < other.total_cost\n"
   ]
  },
  {
   "cell_type": "markdown",
   "metadata": {},
   "source": [
    "Given our state and transition functions we construct the environment for our agent."
   ]
  },
  {
   "cell_type": "code",
   "execution_count": 1,
   "metadata": {
    "pycharm": {
     "is_executing": false
    }
   },
   "outputs": [
    {
     "ename": "NameError",
     "evalue": "name 'GridWorldState' is not defined",
     "output_type": "error",
     "traceback": [
      "\u001b[1;31m---------------------------------------------------------------------------\u001b[0m",
      "\u001b[1;31mNameError\u001b[0m                                 Traceback (most recent call last)",
      "\u001b[1;32m<ipython-input-1-d77a1c2d1a0d>\u001b[0m in \u001b[0;36m<module>\u001b[1;34m\u001b[0m\n\u001b[0;32m     17\u001b[0m     \u001b[0mactionset\u001b[0m \u001b[1;33m=\u001b[0m \u001b[1;33m[\u001b[0m\u001b[1;34m'L'\u001b[0m\u001b[1;33m,\u001b[0m \u001b[1;34m'R'\u001b[0m\u001b[1;33m,\u001b[0m \u001b[1;34m'U'\u001b[0m\u001b[1;33m,\u001b[0m \u001b[1;34m'D'\u001b[0m\u001b[1;33m]\u001b[0m\u001b[1;33m\u001b[0m\u001b[1;33m\u001b[0m\u001b[0m\n\u001b[0;32m     18\u001b[0m \u001b[1;33m\u001b[0m\u001b[0m\n\u001b[1;32m---> 19\u001b[1;33m     \u001b[0mstart\u001b[0m \u001b[1;33m=\u001b[0m \u001b[0mGridWorldState\u001b[0m\u001b[1;33m(\u001b[0m\u001b[0mcoord\u001b[0m \u001b[1;33m=\u001b[0m \u001b[1;33m(\u001b[0m\u001b[1;36m8\u001b[0m\u001b[1;33m,\u001b[0m\u001b[1;36m0\u001b[0m\u001b[1;33m)\u001b[0m\u001b[1;33m,\u001b[0m \u001b[0mcost\u001b[0m \u001b[1;33m=\u001b[0m \u001b[1;36m0\u001b[0m\u001b[1;33m,\u001b[0m \u001b[0mobstacle_coords\u001b[0m\u001b[1;33m=\u001b[0m\u001b[0mobstacle_coords\u001b[0m\u001b[1;33m)\u001b[0m\u001b[1;33m\u001b[0m\u001b[1;33m\u001b[0m\u001b[0m\n\u001b[0m\u001b[0;32m     20\u001b[0m     \u001b[0mgoal\u001b[0m  \u001b[1;33m=\u001b[0m \u001b[0mGridWorldState\u001b[0m\u001b[1;33m(\u001b[0m\u001b[0mcoord\u001b[0m \u001b[1;33m=\u001b[0m \u001b[1;33m(\u001b[0m\u001b[1;36m0\u001b[0m\u001b[1;33m,\u001b[0m\u001b[1;36m8\u001b[0m\u001b[1;33m)\u001b[0m\u001b[1;33m,\u001b[0m \u001b[0mcost\u001b[0m \u001b[1;33m=\u001b[0m \u001b[1;36m0\u001b[0m\u001b[1;33m,\u001b[0m \u001b[0mobstacle_coords\u001b[0m\u001b[1;33m=\u001b[0m\u001b[0mobstacle_coords\u001b[0m\u001b[1;33m)\u001b[0m\u001b[1;33m\u001b[0m\u001b[1;33m\u001b[0m\u001b[0m\n\u001b[0;32m     21\u001b[0m \u001b[1;33m\u001b[0m\u001b[0m\n",
      "\u001b[1;31mNameError\u001b[0m: name 'GridWorldState' is not defined"
     ]
    }
   ],
   "source": [
    "if __name__ == \"__main__\":\n",
    "    nrow = ncol = 9\n",
    "    obstacle_map = []\n",
    "    obstacle_map.append([0, 0, 0, 0, 0, 0, 0, 0, 0])\n",
    "    obstacle_map.append([0, 0, 0, 0, 0, 0, 0, 0, 0])\n",
    "    obstacle_map.append([0, 0, 1, 1, 1, 1, 1, 0, 0])\n",
    "    obstacle_map.append([0, 0, 0, 0, 0, 0, 1, 0, 0])\n",
    "    obstacle_map.append([0, 0, 0, 0, 0, 0, 1, 0, 0])\n",
    "    obstacle_map.append([0, 0, 0, 0, 0, 0, 1, 0, 0])\n",
    "    obstacle_map.append([0, 0, 0, 0, 0, 0, 1, 0, 0])\n",
    "    obstacle_map.append([0, 0, 0, 1, 1, 1, 1, 0, 0])\n",
    "    obstacle_map.append([0, 0, 0, 0, 0, 0, 0, 0, 0])\n",
    "\n",
    "    obstacle_coords = [(row, col) for row in range(nrow) \\\n",
    "                    for col in range(ncol) if obstacle_map[row][col]==1]\n",
    "\n",
    "    actionset = ['L', 'R', 'U', 'D']\n",
    "\n",
    "    start = GridWorldState(coord = (8,0), cost = 0, obstacle_coords=obstacle_coords)\n",
    "    goal  = GridWorldState(coord = (0,8), cost = 0, obstacle_coords=obstacle_coords)\n"
   ]
  },
  {
   "cell_type": "markdown",
   "metadata": {},
   "source": [
    "Finally we begin our search, in BFS, we create a queue, add our starting element, and begin searching its neighbours until we find the goal, similar to previous week."
   ]
  },
  {
   "cell_type": "code",
   "execution_count": null,
   "metadata": {
    "tags": []
   },
   "outputs": [],
   "source": [
    "    # Exercise 3.1b\n",
    "    explored = set() # need hashable objects!\n",
    "    fringe = queue.Queue()\n",
    "    fringe.put((start, []))\n",
    "\n",
    "    reachedEnd = False\n",
    "    while fringe.qsize() > 0:\n",
    "        current, path = fringe.get()\n",
    "        explored.add(current.id)\n",
    "        for action in actionset: # \"simulate\" executing actions\n",
    "            neighbor = current.step(action)\n",
    "            if neighbor==goal:\n",
    "                print (\"reached the end, jolly good\")\n",
    "                print (path + [action])\n",
    "                reachedEnd = True\n",
    "                break;\n",
    "            if neighbor.id in explored:\n",
    "                continue\n",
    "            fringe.put((neighbor, path + [action]))\n",
    "        if reachedEnd:\n",
    "            break\n"
   ]
  },
  {
   "cell_type": "markdown",
   "metadata": {},
   "source": [
    "For iterative deepening, we perform DFS until we reach the end or a certain depth in our tree,when we reach the maximum depth, we increase its upper bound and start again. "
   ]
  },
  {
   "cell_type": "code",
   "execution_count": null,
   "metadata": {
    "tags": []
   },
   "outputs": [],
   "source": [
    "    # Exercise 3.1c\n",
    "    max_depth = 1000 # problem-specific, guess: some reasonable finite positive number\n",
    "\n",
    "    # outer loop\n",
    "    reachedEnd = False\n",
    "    for max_depth_i in range(1, max_depth + 1):\n",
    "        explored = set()\n",
    "        fringe = queue.LifoQueue()\n",
    "        fringe.put((start, []))\n",
    "\n",
    "        while fringe.qsize() > 0:\n",
    "            current, path = fringe.get()\n",
    "            if current==goal:\n",
    "                print (\"reached the end, jolly good\")\n",
    "                print (path)\n",
    "                reachedEnd = True\n",
    "                break\n",
    "            if current.id in explored:\n",
    "                continue\n",
    "            if (max_depth is not None) and (len(path)==max_depth_i):\n",
    "                continue\n",
    "            explored.add(current.id)\n",
    "            for action in actionset: # \"simulate\" executing actions\n",
    "                neighbor = current.step(action)\n",
    "                if neighbor.id not in explored:\n",
    "                    fringe.put((neighbor, path + [action]))\n",
    "        if reachedEnd:\n",
    "            break\n"
   ]
  },
  {
   "cell_type": "markdown",
   "metadata": {},
   "source": [
    "## Exercise 3.2"
   ]
  },
  {
   "cell_type": "markdown",
   "metadata": {},
   "source": [
    "For this exercise we will be performing UCS and A*, again we begin by bulding our environment."
   ]
  },
  {
   "cell_type": "code",
   "execution_count": null,
   "metadata": {},
   "outputs": [],
   "source": [
    "if __name__ == \"__main__\":\n",
    "    cost_map = []\n",
    "    cost_map.append([1, 1,  1,  5,  5,  5,  5, 1, None])\n",
    "    cost_map.append([1, 1,  1,  5,  5,  5,  5, 1, 1])\n",
    "    cost_map.append([1, 1, 10, 10, 10, 10, 10, 1, 1])\n",
    "    cost_map.append([1, 1,  1, 10, 10, 10, 10, 1, 1])\n",
    "    cost_map.append([1, 1,  1,  1,  1, 10, 10, 1, 1])\n",
    "    cost_map.append([1, 1,  1,  1,  1, 10, 10, 1, 1])\n",
    "    cost_map.append([1, 1,  1,  1, 10, 10, 10, 1, 1])\n",
    "    cost_map.append([1, 1,  1, 10, 10, 10, 10, 1, 1])\n",
    "    cost_map.append([0, 1,  1,  1,  1,  1,  1, 1, 1])\n",
    "    actionset = ['L', 'R', 'U', 'D']\n",
    "    \n",
    "    start = GridWorldState(coord = (8,0), cost = 0, cost_map=cost_map)\n",
    "    goal  = GridWorldState(coord = (0,8), cost = 0, cost_map=cost_map)"
   ]
  },
  {
   "cell_type": "markdown",
   "metadata": {},
   "source": [
    "Next we begin our search, recall that for UCS/A* we use a priority queue. We keep track of the costs associated with states, the optimal path is now the path that has the smallest costs, jnot necessarilly the smalles amount of actions, though in this case it is the same."
   ]
  },
  {
   "cell_type": "code",
   "execution_count": null,
   "metadata": {
    "tags": []
   },
   "outputs": [],
   "source": [
    "    fringe = queue.PriorityQueue()\n",
    "    fringe.put(start)\n",
    "    path = {start.id: []} # a dict of `vertex: actions`\n",
    "\n",
    "    explored = {start.id: start.cost} # a dict of `vertex: cost_so_far`\n",
    "    reachedEnd = False\n",
    "    while not fringe.empty():\n",
    "        current = fringe.get()\n",
    "        if current==goal:\n",
    "            print (\"reached the end, jolly good\")\n",
    "            print (path[current.id])\n",
    "            print (explored[current.id])\n",
    "            break\n",
    "        for action in actionset: # \"simulate\" executing actions\n",
    "            neighbor = current.step(action)\n",
    "            cost_so_far = explored[current.id] + current.cost\n",
    "            # neighbour not explored or update the neighbour\n",
    "            if (neighbor.id not in explored) or (cost_so_far < explored[neighbor.id]):\n",
    "                explored[neighbor.id] = cost_so_far\n",
    "                path[neighbor.id] = path[current.id] + [action]\n",
    "                vfp = cost_so_far + neighbor.estimate_cost_to_go(goal)\n",
    "                neighbor.total_cost = vfp\n",
    "                fringe.put(neighbor)\n"
   ]
  },
  {
   "cell_type": "code",
   "execution_count": null,
   "metadata": {},
   "outputs": [],
   "source": []
  }
 ],
 "metadata": {
  "kernelspec": {
   "display_name": "Python 3",
   "language": "python",
   "name": "python3"
  },
  "language_info": {
   "codemirror_mode": {
    "name": "ipython",
    "version": 3
   },
   "file_extension": ".py",
   "mimetype": "text/x-python",
   "name": "python",
   "nbconvert_exporter": "python",
   "pygments_lexer": "ipython3",
   "version": "3.8.0"
  }
 },
 "nbformat": 4,
 "nbformat_minor": 4
}
