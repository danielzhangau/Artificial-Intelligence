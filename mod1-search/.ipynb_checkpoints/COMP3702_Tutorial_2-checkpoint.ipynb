{
 "cells": [
  {
   "cell_type": "markdown",
   "metadata": {},
   "source": [
    "# Tutorial 2"
   ]
  },
  {
   "cell_type": "markdown",
   "metadata": {},
   "source": [
    "Let us recall the components we need for an agent.\n",
    "    - Action Space (A)\n",
    "    - Percept Space (P) \n",
    "    - State Space (S)\n",
    "    - Transition Function (T : S x A -> S')\n",
    "    - Utility Function (U: R -> R)\n",
    "\n",
    "We know the problem is fully observable, thus the percept space is the same as the state space and we dont need to do anything special while considering it. For BFS and DFS problems there is no cost associated with actions, the utility will therefore become 1 for reaching the goal state and 0 otherwise.\n",
    "\n",
    "That leaves us with action space, state space, and transition function.\n",
    "\n",
    "In the 8-puzzle game there are 4 actions that are available to us, Up, Right, Down, Left. These 4 actions make up the action space, the actions are not all always vailable, however we will worry about that when getting to the transition function.\n",
    "\n",
    "The transition function is the core of the problem, given a state and an action we need a way to find the next state. The implementation for this will largely depend on the state space, so lets start with that. \n",
    "  "
   ]
  },
  {
   "cell_type": "markdown",
   "metadata": {},
   "source": [
    "Lets start by defining the state space in terms of python code, there are a few things we will be interested in. \n",
    "    - The grid layout - what numbers are in what positions, we will treat this as a list, however there are a number of ways we can model it\n",
    "    - The children of each state\n",
    "    - Is the cell visited or not\n",
    "    - What action led to here\n",
    "\n",
    "Well also keep track of the cost, this is not needed for BFS and DFS, however is very important when we get to UCS.\n",
    "\n",
    "Too keep track of all these properties, lets start by defining a class. Well also import the queue class and the heapq class, well need it later."
   ]
  },
  {
   "cell_type": "code",
   "execution_count": null,
   "metadata": {},
   "outputs": [],
   "source": [
    "from queue import *\n",
    "import heapq"
   ]
  },
  {
   "cell_type": "code",
   "execution_count": null,
   "metadata": {},
   "outputs": [],
   "source": [
    "\n",
    "# state representation\n",
    "class Node:\n",
    "    def __init__(self):\n",
    "        self.grid = []\n",
    "        self.children = []\n",
    "        self.parent = None\n",
    "        self.previous_action = \"\"\n",
    "        self.cost = 0"
   ]
  },
  {
   "cell_type": "markdown",
   "metadata": {},
   "source": [
    "Next, still in our class we can define the transition function, we need to do 2 things here. Firstly we need to check that the action given is valid, and second we need to perform the action.\n",
    "\n",
    "We can check if the action is valid by getting the current index of the tile. We know that the action Left is invalid in the left row, and we also know that the left row has elements 0, 3 and 6 in out Node.grid list, hence if the tile index is in one of those positions, the action Left is impossible. \n",
    "\n",
    "While we are making children, we can also keep track of the childs parent and the action that led to the child."
   ]
  },
  {
   "cell_type": "code",
   "execution_count": null,
   "metadata": {},
   "outputs": [],
   "source": [
    "# state representation\n",
    "class Node:\n",
    "    def __init__(self):\n",
    "        self.grid = []\n",
    "        self.children = []\n",
    "        self.parent = None\n",
    "        self.previous_action = \"\"  \n",
    "        self.cost = 0      \n",
    "        \n",
    "    # transition function for action Left     \n",
    "    def get_child(self, action):\n",
    "        # treat the tile as '0' \n",
    "        index = self.grid.index(0)\n",
    "        new_node = None\n",
    "        if action == \"Left\":\n",
    "            # check for validity\n",
    "            if not (index == 0 or index == 3 or index == 6):\n",
    "                # swap tile with left element\n",
    "                new_node = Node()\n",
    "                # deep copy the grid\n",
    "                new_node.grid = self.grid[:]\n",
    "                new_node.grid[index] = new_node.grid[index-1]\n",
    "                new_node.grid[index-1] = 0\n",
    "                # also set us to be the parent of the child\n",
    "                new_node.parent = self\n",
    "                new_node.cost = self.cost + 3\n",
    "\n",
    "        # We can do something similar for the other actions\n",
    "        \n",
    "        if action == \"Right\":\n",
    "            # check for validity\n",
    "            if not (index == 2 or index == 5 or index == 8):\n",
    "                # swap tile with Right element\n",
    "                new_node = Node()\n",
    "                new_node.grid = self.grid[:]\n",
    "                new_node.grid[index] = new_node.grid[index+1]\n",
    "                new_node.grid[index+1] = 0\n",
    "                new_node.parent = self\n",
    "                new_node.cost = self.cost + 4\n",
    "\n",
    "        if action == \"Up\":\n",
    "            if not (index <= 2):\n",
    "                # swap tile with Top element\n",
    "                new_node = Node()\n",
    "                new_node.grid = self.grid[:]\n",
    "                new_node.grid[index] = new_node.grid[index-3]\n",
    "                new_node.grid[index-3] = 0\n",
    "                new_node.parent = self\n",
    "                new_node.cost = self.cost + 1\n",
    "                \n",
    "\n",
    "        if action == \"Down\":\n",
    "            if not (index >= 6):\n",
    "                # swap tile with Bottom element\n",
    "                new_node = Node()\n",
    "                new_node.grid = self.grid[:]\n",
    "                new_node.grid[index] = new_node.grid[index+3]\n",
    "                new_node.grid[index+3] = 0\n",
    "                new_node.parent = self                \n",
    "                new_node.cost = self.cost + 2\n",
    "        \n",
    "        if new_node:\n",
    "            new_node.previous_action = action\n",
    "            return new_node\n",
    "    \n",
    "    # override equality - needed to check when 2 states are equal\n",
    "    def __eq__(self, obj):\n",
    "        \"\"\"self == obj.\"\"\"\n",
    "        return self.grid == obj.grid\n",
    "    \n",
    "    # override less than function for UCS\n",
    "    def __lt__(self, obj):\n",
    "        return self.cost < obj.cost\n",
    "\n",
    "\n"
   ]
  },
  {
   "cell_type": "markdown",
   "metadata": {},
   "source": [
    "Youll notice we also made an _eq_ function and __lt__, this is an override for the equality operator (==), which allows us to determine under what conditions 2 classes are equal (obj1 == obj2), and the less than operator (<), which we will use for UCS.\n",
    "\n",
    "This is all the basics we need for our state and transition components. Now we need to perform our search.\n",
    "\n",
    "For testing, lets create an initial state and a goal state. \n",
    "\n",
    "Well also start with BFS, so well need to create a queue, and well put our initial state into it.\n",
    "\n",
    "Well also need some way to keep track of states that were already visited, so well make a list for that.\n"
   ]
  },
  {
   "cell_type": "code",
   "execution_count": null,
   "metadata": {},
   "outputs": [],
   "source": [
    "# python entry point\n",
    "if __name__ == \"__main__\":\n",
    "    init_state = Node()\n",
    "    init_state.grid = [1,2,3,4,5,6,0,7,8]\n",
    "    goal_state = Node()\n",
    "    goal_state.grid = [1,2,3,4,5,6,7,8,0]\n",
    "    \n",
    "    visited = []\n",
    "    \n",
    "    q = Queue()\n",
    "    q.put(init_state)\n"
   ]
  },
  {
   "cell_type": "markdown",
   "metadata": {},
   "source": [
    "Now lets start our search, reacll that the basic structure of search is to take items out of the queue, get its successors, and put them into the queue."
   ]
  },
  {
   "cell_type": "code",
   "execution_count": null,
   "metadata": {
    "tags": []
   },
   "outputs": [],
   "source": [
    "    while not q.empty():\n",
    "        node = q.get()\n",
    "        print (\"node:\", node.grid)\n",
    "        if node.grid == goal_state.grid:\n",
    "            print (\"We Reached the goal, Jolly Good!\")\n",
    "            break;\n",
    "            \n",
    "        for action in [\"Up\", \"Down\", \"Right\", \"Left\"]:\n",
    "            child = node.get_child(action)\n",
    "            # child not in visited works since we overloaded the equality operator\n",
    "            if child and child not in visited:\n",
    "                print (\"start:\", node.grid, \"end:\", child.grid, action)\n",
    "                q.put(child)"
   ]
  },
  {
   "cell_type": "markdown",
   "metadata": {},
   "source": [
    "To get the actions to get here we can backtrack from the goal up the chain of parents."
   ]
  },
  {
   "cell_type": "code",
   "execution_count": null,
   "metadata": {
    "tags": []
   },
   "outputs": [],
   "source": [
    "    actions = []\n",
    "    # initial node has no parent     \n",
    "    while node.parent:\n",
    "        actions.append(node.previous_action)\n",
    "        node = node.parent\n",
    "    # reverse it to get the correct order     \n",
    "    actions.reverse()\n",
    "    print (\"Number of actions:\", len(actions))\n",
    "    print (actions)\n",
    "            "
   ]
  },
  {
   "cell_type": "markdown",
   "metadata": {},
   "source": [
    "Thats the core od BFS, to change it to DFS, we just have to recall that DFS uses a stack, so we would switch over the queue in the code above to a stack and were done."
   ]
  },
  {
   "cell_type": "markdown",
   "metadata": {},
   "source": [
    "The Last part is to convert our BFS code to UCS. The difference here is that UCS keeps track of the cost of actions. We are given that the cost of actions is {Up=1, Down=2, Left=3, Right=4}. In other words, going up 4 times holds the same weight as going right once. We are no longer concerned with minimizing the number of moves, instead we want to minimize the cost.\n",
    "\n",
    "In our Node class above we keep track of the aggregate cost from the start position to each new state. To make use of this we will use a priority queue (heapq), which takes elements out that have the smallest cost."
   ]
  },
  {
   "cell_type": "code",
   "execution_count": null,
   "metadata": {
    "tags": []
   },
   "outputs": [],
   "source": [
    "if __name__ == \"__main__\":\n",
    "    init_state = Node()\n",
    "    init_state.grid = [1,2,3,4,5,6,0,7,8]\n",
    "    goal_state = Node()\n",
    "    goal_state.grid = [1,2,3,4,5,6,7,8,0]\n",
    "    \n",
    "    visited = []\n",
    "    \n",
    "    pq = []\n",
    "    pq.append(init_state)\n",
    "    heapq.heapify(pq)\n",
    "\n",
    "    while pq:\n",
    "        node = heapq.heappop(pq)\n",
    "        print (\"node:\", node.grid)\n",
    "        if node.grid == goal_state.grid:\n",
    "            print (\"We Reached the goal, Jolly Good!\")\n",
    "            break;\n",
    "            \n",
    "        for action in [\"Up\", \"Down\", \"Right\", \"Left\"]:\n",
    "            child = node.get_child(action)\n",
    "            # child not in visited works since we overloaded the equality operator\n",
    "            if child and child not in visited:\n",
    "                print (\"start:\", node.grid, \"end:\", child.grid, action)\n",
    "                heapq.heappush(pq, child)\n",
    "\n",
    "    actions = []\n",
    "    # initial node has no parent     \n",
    "    while node.parent:\n",
    "        actions.append(node.previous_action)\n",
    "        node = node.parent\n",
    "    # reverse it to get the correct order     \n",
    "    actions.reverse()\n",
    "    print (\"Number of actions:\", len(actions))\n",
    "    print (actions)\n"
   ]
  },
  {
   "cell_type": "markdown",
   "metadata": {},
   "source": [
    "Notice that very little changed from the previous code, we replaced the queue with the heapq. The heapq will always take the item with the lowest value from the queue. Since we overrode the less than __lt__ operator in our class, the heapq knows how to compare the elements."
   ]
  }
 ],
 "metadata": {
  "kernelspec": {
   "display_name": "Python 3",
   "language": "python",
   "name": "python3"
  },
  "language_info": {
   "codemirror_mode": {
    "name": "ipython",
    "version": 3
   },
   "file_extension": ".py",
   "mimetype": "text/x-python",
   "name": "python",
   "nbconvert_exporter": "python",
   "pygments_lexer": "ipython3",
   "version": "3.8.3"
  }
 },
 "nbformat": 4,
 "nbformat_minor": 4
}
