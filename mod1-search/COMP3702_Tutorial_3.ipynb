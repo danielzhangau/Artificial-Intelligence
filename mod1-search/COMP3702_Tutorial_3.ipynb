{
 "cells": [
  {
   "cell_type": "markdown",
   "metadata": {},
   "source": [
    "# AI Sem2 2019 Tutorial 2 Soltuions\n",
    "\n",
    "Alex | 31 July 2019"
   ]
  },
  {
   "cell_type": "code",
   "execution_count": 1,
   "metadata": {},
   "outputs": [],
   "source": [
    "import numpy as np\n",
    "import time\n",
    "\n",
    "# consider converting all data to np.uint8 for speed"
   ]
  },
  {
   "cell_type": "markdown",
   "metadata": {},
   "source": [
    "# BFS"
   ]
  },
  {
   "cell_type": "code",
   "execution_count": 2,
   "metadata": {},
   "outputs": [],
   "source": [
    "class Node():\n",
    "    def __init__(self, state, parent=None, action=None, depth=0):\n",
    "        self.state = state  # a board\n",
    "        self.parent = parent  # parent node, a NODE! not just a matrix.\n",
    "        self.action = action  # The one that led to this node (useful for retracing purpose)\n",
    "        self.depth = depth  # depth of the node in the tree. This is the criterion for who's next in DFS, BFS.\n",
    "    \n",
    "    def world_dynamics(self, current_state, action):\n",
    "        # Firstly, find out where the white tile is\n",
    "        row, col = np.where(current_state == 0)\n",
    "        new_state = current_state.copy()\n",
    "        if action == 'up':\n",
    "            if row - 1 < 0:  # It is valid action only if new index is still within the matrix\n",
    "                raise Exception('Inappropriate action for the current state')\n",
    "            new_state[row, col], new_state[row-1, col] = new_state[row-1, col], new_state[row, col]\n",
    "        elif action == 'down':\n",
    "            if row + 1 > 2:  # It is valid action only if new index is still within the matrix\n",
    "                raise Exception('Inappropriate action for the current state')\n",
    "            new_state[row, col], new_state[row+1, col] = new_state[row+1, col], new_state[row, col]        \n",
    "        elif action == 'left':\n",
    "            if col - 1 < 0:  # It is valid action only if new index is still within the matrix\n",
    "                raise Exception('Inappropriate action for the current state')\n",
    "            new_state[row, col], new_state[row, col-1] = new_state[row, col-1], new_state[row, col]\n",
    "        elif action == 'right':\n",
    "            if col + 1 > 2:  # It is valid action only if new index is still within the matrix\n",
    "                raise Exception('Inappropriate action for the current state')\n",
    "            new_state[row, col], new_state[row, col+1] = new_state[row, col+1], new_state[row, col]\n",
    "        else: print('Unknown action!')\n",
    "        return new_state\n",
    "    \n",
    "    def explore_actions(self, state):\n",
    "        possibilities = ['up', 'down', 'right', 'left']\n",
    "        actions = []\n",
    "        for apossibility in possibilities:\n",
    "            try: \n",
    "                new_state = self.world_dynamics(state, apossibility)\n",
    "                actions.append(apossibility)  # if world_dynamics didn't return False\n",
    "            except: pass  # move on to the next possibility\n",
    "        return actions\n",
    "    \n",
    "    def whos_next_BFS(self, frontier):\n",
    "        \"\"\"\n",
    "        This is an ideal function. It relies on .depth attributes of nodes.\n",
    "        And determines which node should be explored first according to BFS regime.\n",
    "        However, there's a faster implementation of it. Which is FIFO frontier.\n",
    "        This list by construction will make the most recent nodes (which are the deepest) be explored later\n",
    "        While older nodes in the list go first. So, no need for this function. It is only here for perfection.\n",
    "        Pythonically speaking, use .pop(0) and .append methods of lists to build a FIFO type queue\n",
    "        \"\"\"\n",
    "        least_depth = 99999999999\n",
    "        least_depth_node_index = None\n",
    "        for index, anode in enumerate(frontier):\n",
    "            if anode.depth < least_depth:\n",
    "                least_depth = anode.depth\n",
    "                least_depth_node_index = index\n",
    "        return least_depth_node_index\n",
    "\n",
    "    def done(self, current_node):\n",
    "        \"\"\" The prupose of this function  is: Trace back this node to the founding granpa.\n",
    "        Print out the states through out\n",
    "        \"\"\"\n",
    "        founding_father = current_node\n",
    "        states = []  # the retraced states will be stored here.\n",
    "        counter = 0\n",
    "        limit = 50  # if the trace is longer than 50, don't print anything, it will be a mess.\n",
    "        while founding_father:\n",
    "            states.append(founding_father.state)\n",
    "            founding_father = founding_father.parent\n",
    "            counter += 1\n",
    "            # Keep doing this until you reach the founding father that has a parent None (see default of init method)\n",
    "        print('Number of steps to the goal = ', counter)\n",
    "        if counter > limit:\n",
    "            print('Too many steps to be printed')\n",
    "        else:\n",
    "            for i in reversed(states):  # Cause we want to print solution from initial to goal not the opposite.\n",
    "                print(i, '\\n')\n",
    "\n",
    "    def BFS(self, goal_state):\n",
    "        start = time.time()\n",
    "        frontier = [self]  # queue of found but unvisited nodes, FIFO\n",
    "        frontier_max_size = len(frontier)  # We measure space / memory requirements of the algo via this metric.\n",
    "        ft = set()\n",
    "        ft.add(tuple(self.state.reshape(9,)))\n",
    "        # A version of the frontier that contains only states, not nodes\n",
    "        # This is version is required because Python is slow, and having this numeric version\n",
    "        # will make things much faster.\n",
    "        \n",
    "        explored = set([])  # We use this to measure time requirements (#visited_nodes). This is unbiased measure and doesn't depend on computer speed\n",
    "        # We should have another set of unexplored, but it is huge and we will ignore it.\n",
    "        # The union of the three sets above is the state space.\n",
    "\n",
    "        \n",
    "        # Let's start exploring the frontier.\n",
    "        ct = 0  # a counter to see the progress.\n",
    "        while frontier:\n",
    "            '''\n",
    "            As long as there are elements in the frontier, then the search is on. But, this can be an infinite loop\n",
    "            in case of graph, unless, we store the visited cases! \n",
    "            The only way you can terminate is via return of BFS function\n",
    "            that will interrupt the while loop. So, the function spits out the first solution it finds.\n",
    "            '''\n",
    "            ct += 1\n",
    "            print(ct, end='\\r')\n",
    "            \n",
    "            if len(frontier) > frontier_max_size: frontier_max_size = len(frontier)\n",
    "            # This is a measure of memory requirements. Although storing explored elements kills\n",
    "            # difference between DFS and BFS cause DFS is promoted as having small memory requirements, but when visited nodes\n",
    "            # are stored in addition to frontier, at some point, there will be no big difference.\n",
    "            # This is a cost we pay to convert a graph to a tree.\n",
    "            current_node = frontier.pop(0) # select and remove the first node in the queue\n",
    "            ft.remove(tuple(current_node.state.reshape(9,)))\n",
    "            explored.add(tuple(current_node.state.reshape(9,)))  # cause we are going to explore it.\n",
    "            # The reason why it is stored as a tuple, is to make elements hashable, so then we can ask if an element is in\n",
    "            # the list\n",
    "            \n",
    "            # Firstly, let's check if the new node is the goal:\n",
    "            if np.array_equal(current_node.state, goal_state):\n",
    "                print('Time required = ', -start + time.time())\n",
    "                print('Explored states = ', len(explored))\n",
    "                print('Frontier max size = ', frontier_max_size)\n",
    "                self.done(current_node)\n",
    "                '''\n",
    "                Time required shows overall performance. This could be different indicator from explored states figure\n",
    "                Because there can be a costy h function that leads to less explored states but more computation time.\n",
    "                So, there is no point of it. Additionally, run time can depend on computer specs, and representation\n",
    "                of states (a matrix or a string)\n",
    "                Frontier max size is indication of storage requirements.\n",
    "                Number of steps to reach the solution is indication of how optimal the solution  is.\n",
    "                '''\n",
    "                return True  # This return is for BFS method. It is a mean to break out of the while loop.\n",
    "            \n",
    "            # if it is not the goal, then, let's dig deeper:\n",
    "            actions = self.explore_actions(current_node.state)  # branches that can come out\n",
    "            for anaction in actions:  # add exploration results to the frontier.\n",
    "                new_state = self.world_dynamics(current_node.state, anaction)\n",
    "                if tuple(new_state.reshape(9,)) not in explored:\n",
    "                    \"\"\" cause we are imposing a tree search on a graph problem\n",
    "                    The problem has cycles, something that doesn't exist in tree searches. So, we have to\n",
    "                    prevent that.\n",
    "                    A tree is like exploring your folders in HDD. you cannot open a subfolder and it takes you\n",
    "                    to an earlier folder. In graphs this is possible. An example of a graph is a map.\n",
    "                    \"\"\"\n",
    "                    if tuple(new_state.reshape(9,)) not in ft:\n",
    "                        new_node = Node(state=new_state, parent=current_node, action=anaction, depth=current_node.depth+1)\n",
    "                        frontier.append(new_node)\n",
    "                        ft.add(tuple(new_state.reshape(9,)))\n",
    "                        \n",
    "        print('Failed to reach target goal. Number of states explored = ')\n",
    "        return len(explored)  # i.e. frontier list was emptied, all state space was explored, goal wasn't reached.\n",
    "        # The result returned above should be equal to half of the state space size since it was proven that the other \n",
    "        # half is unsolvable. The state space cardinality is 9! half of them has parity \"odd\" and half got parity \"even\"\n",
    "        # Meaning half of them fall into one subset and so is the other half. In each subset you can move freely \n",
    "        # between any two states. Additionally, when starting in one subset, you're stuck in it, and thus, there are \n",
    "        # only 9! / 2 states to explore."
   ]
  },
  {
   "cell_type": "code",
   "execution_count": 3,
   "metadata": {},
   "outputs": [],
   "source": [
    "def get_inv_count(array):\n",
    "    \"\"\"\n",
    "    This function takes in a state, and returns the inversion number for it.\n",
    "    \"\"\"\n",
    "    counter = 0\n",
    "    linear = array.reshape(-1,).tolist()\n",
    "    linear.remove(0)  # remove the empty tile\n",
    "    N = len(linear)\n",
    "    for index, item in enumerate(linear):\n",
    "        for i in range(index+1, N, 1):\n",
    "            if linear[i] < item:\n",
    "                counter += 1\n",
    "    return counter\n",
    "\n",
    "\n",
    "def check_solvability(array1, array2):\n",
    "    \"\"\"\n",
    "    This function tells whether you can solve the puzzle starting from array1 and your goal is array2.\n",
    "    It turned out that one thing is invariant under blank tile slidings: parity of total number of inversions.\n",
    "    If it is the same for array1 and array2, then, there's a sequence of slidings to move from one to the other.\n",
    "    An inversion is defined as how many numbers (tiles), a certain number has preceeded, i.e. it came before them, even though\n",
    "    they're smaller (broke the ascening order). You take a number, and you start looking at all the number that\n",
    "    came after it, if you ever observe anything larger than the number you're considering, that's +1 inversion.\n",
    "    PS: blank tile is ignored, and the board is thought of in a linear row major order.\n",
    "    \"\"\"\n",
    "    count1, count2 = get_inv_count(array1), get_inv_count(array2)\n",
    "    parity1 = 'odd' if (count1 % 2 == 1) else 'even'\n",
    "    parity2 = 'odd' if (count2 % 2 == 1) else 'even'\n",
    "    return parity1 == parity2"
   ]
  },
  {
   "cell_type": "markdown",
   "metadata": {},
   "source": [
    "# Easy problem to check"
   ]
  },
  {
   "cell_type": "code",
   "execution_count": 4,
   "metadata": {},
   "outputs": [
    {
     "name": "stdout",
     "output_type": "stream",
     "text": [
      "[[1 2 3]\n",
      " [8 6 4]\n",
      " [7 5 0]] \n",
      "\n",
      "[[1 2 3]\n",
      " [8 0 4]\n",
      " [7 6 5]] \n",
      "\n"
     ]
    }
   ],
   "source": [
    "test = np.array([1,2,3,8,6,4,7,5,0], dtype=np.uint8).reshape(3,3)\n",
    "goal_state = np.array([1,2,3,8,0,4,7,6,5], dtype=np.uint8).reshape(3,3)\n",
    "initial_state = test\n",
    "print(initial_state, '\\n')\n",
    "print(goal_state, '\\n')\n",
    "\n",
    "root_node = Node(state=initial_state)"
   ]
  },
  {
   "cell_type": "code",
   "execution_count": 5,
   "metadata": {},
   "outputs": [
    {
     "data": {
      "text/plain": "array([[1, 2, 3],\n       [8, 6, 0],\n       [7, 5, 4]], dtype=uint8)"
     },
     "execution_count": 5,
     "metadata": {},
     "output_type": "execute_result"
    }
   ],
   "source": [
    "root_node.world_dynamics(initial_state, 'up')"
   ]
  },
  {
   "cell_type": "code",
   "execution_count": 5,
   "metadata": {},
   "outputs": [],
   "source": []
  },
  {
   "cell_type": "code",
   "execution_count": 6,
   "metadata": {},
   "outputs": [
    {
     "name": "stdout",
     "output_type": "stream",
     "text": [
      "Time required =  0.0049839019775390625\n",
      "Explored states =  6\n",
      "Frontier max size =  6\n",
      "Number of steps to the goal =  3\n",
      "[[1 2 3]\n",
      " [8 6 4]\n",
      " [7 5 0]] \n",
      "\n",
      "[[1 2 3]\n",
      " [8 6 4]\n",
      " [7 0 5]] \n",
      "\n",
      "[[1 2 3]\n",
      " [8 0 4]\n",
      " [7 6 5]] \n",
      "\n"
     ]
    },
    {
     "data": {
      "text/plain": "True"
     },
     "execution_count": 6,
     "metadata": {},
     "output_type": "execute_result"
    }
   ],
   "source": [
    "root_node.BFS(goal_state)"
   ]
  },
  {
   "cell_type": "markdown",
   "metadata": {},
   "source": [
    "# Hard random, probably unsolvable goal"
   ]
  },
  {
   "cell_type": "code",
   "execution_count": 7,
   "metadata": {},
   "outputs": [
    {
     "name": "stdout",
     "output_type": "stream",
     "text": [
      "[[4 3 6]\n",
      " [8 7 5]\n",
      " [1 0 2]]\n",
      "True\n"
     ]
    }
   ],
   "source": [
    "# Run this cell till you get a solvable/ unsolvable config, whichever you want\n",
    "goal_state = np.arange(9, dtype=np.uint8)\n",
    "np.random.shuffle(goal_state)\n",
    "goal_state = goal_state.reshape(3,3)\n",
    "print(goal_state)\n",
    "print(check_solvability(goal_state, initial_state))"
   ]
  },
  {
   "cell_type": "code",
   "execution_count": 8,
   "metadata": {
    "scrolled": true
   },
   "outputs": [
    {
     "name": "stdout",
     "output_type": "stream",
     "text": [
      "Time required =  41.22171950340271\n",
      "Explored states =  101542\n",
      "Frontier max size =  23972\n",
      "Number of steps to the goal =  24\n",
      "[[1 2 3]\n",
      " [8 6 4]\n",
      " [7 5 0]] \n",
      "\n",
      "[[1 2 3]\n",
      " [8 6 0]\n",
      " [7 5 4]] \n",
      "\n",
      "[[1 2 3]\n",
      " [8 0 6]\n",
      " [7 5 4]] \n",
      "\n",
      "[[1 0 3]\n",
      " [8 2 6]\n",
      " [7 5 4]] \n",
      "\n",
      "[[1 3 0]\n",
      " [8 2 6]\n",
      " [7 5 4]] \n",
      "\n",
      "[[1 3 6]\n",
      " [8 2 0]\n",
      " [7 5 4]] \n",
      "\n",
      "[[1 3 6]\n",
      " [8 2 4]\n",
      " [7 5 0]] \n",
      "\n",
      "[[1 3 6]\n",
      " [8 2 4]\n",
      " [7 0 5]] \n",
      "\n",
      "[[1 3 6]\n",
      " [8 0 4]\n",
      " [7 2 5]] \n",
      "\n",
      "[[1 3 6]\n",
      " [8 4 0]\n",
      " [7 2 5]] \n",
      "\n",
      "[[1 3 0]\n",
      " [8 4 6]\n",
      " [7 2 5]] \n",
      "\n",
      "[[1 0 3]\n",
      " [8 4 6]\n",
      " [7 2 5]] \n",
      "\n",
      "[[1 4 3]\n",
      " [8 0 6]\n",
      " [7 2 5]] \n",
      "\n",
      "[[1 4 3]\n",
      " [0 8 6]\n",
      " [7 2 5]] \n",
      "\n",
      "[[0 4 3]\n",
      " [1 8 6]\n",
      " [7 2 5]] \n",
      "\n",
      "[[4 0 3]\n",
      " [1 8 6]\n",
      " [7 2 5]] \n",
      "\n",
      "[[4 3 0]\n",
      " [1 8 6]\n",
      " [7 2 5]] \n",
      "\n",
      "[[4 3 6]\n",
      " [1 8 0]\n",
      " [7 2 5]] \n",
      "\n",
      "[[4 3 6]\n",
      " [1 8 5]\n",
      " [7 2 0]] \n",
      "\n",
      "[[4 3 6]\n",
      " [1 8 5]\n",
      " [7 0 2]] \n",
      "\n",
      "[[4 3 6]\n",
      " [1 8 5]\n",
      " [0 7 2]] \n",
      "\n",
      "[[4 3 6]\n",
      " [0 8 5]\n",
      " [1 7 2]] \n",
      "\n",
      "[[4 3 6]\n",
      " [8 0 5]\n",
      " [1 7 2]] \n",
      "\n",
      "[[4 3 6]\n",
      " [8 7 5]\n",
      " [1 0 2]] \n",
      "\n"
     ]
    },
    {
     "data": {
      "text/plain": "True"
     },
     "execution_count": 8,
     "metadata": {},
     "output_type": "execute_result"
    }
   ],
   "source": [
    "\n",
    "root_node.BFS(goal_state)\n"
   ]
  },
  {
   "cell_type": "markdown",
   "metadata": {},
   "source": [
    "# Starting and Goal states required in Tutorial sheet"
   ]
  },
  {
   "cell_type": "code",
   "execution_count": 9,
   "metadata": {},
   "outputs": [],
   "source": [
    "s1 = np.array([1, 3, 4, 8, 6, 2, 7, 0, 5]).reshape(3,3)\n",
    "g1 = np.array([1, 2, 3, 8, 0, 4, 7, 6, 5]).reshape(3,3)\n",
    "\n",
    "s2 = np.array([2, 8, 1, 0, 4, 3, 7, 6, 5]).reshape(3,3)\n",
    "g2 = np.array([1, 2, 3, 8, 0, 4, 7, 6, 5]).reshape(3,3)\n",
    "\n",
    "s3 = np.array([2, 8, 1, 4, 6, 3, 0, 7, 5]).reshape(3,3)\n",
    "g3 = np.array([1, 2, 3, 8, 0, 4, 7, 6, 5]).reshape(3,3)\n",
    "\n"
   ]
  },
  {
   "cell_type": "code",
   "execution_count": 10,
   "metadata": {},
   "outputs": [
    {
     "name": "stdout",
     "output_type": "stream",
     "text": [
      "Time required =  0.01898360252380371\n",
      "Explored states =  38\n",
      "Frontier max size =  32\n",
      "Number of steps to the goal =  6\n",
      "[[1 3 4]\n",
      " [8 6 2]\n",
      " [7 0 5]] \n",
      "\n",
      "[[1 3 4]\n",
      " [8 0 2]\n",
      " [7 6 5]] \n",
      "\n",
      "[[1 3 4]\n",
      " [8 2 0]\n",
      " [7 6 5]] \n",
      "\n",
      "[[1 3 0]\n",
      " [8 2 4]\n",
      " [7 6 5]] \n",
      "\n",
      "[[1 0 3]\n",
      " [8 2 4]\n",
      " [7 6 5]] \n",
      "\n",
      "[[1 2 3]\n",
      " [8 0 4]\n",
      " [7 6 5]] \n",
      "\n"
     ]
    },
    {
     "data": {
      "text/plain": "True"
     },
     "execution_count": 10,
     "metadata": {},
     "output_type": "execute_result"
    }
   ],
   "source": [
    "root = Node(s1)\n",
    "root.BFS(g1)"
   ]
  },
  {
   "cell_type": "markdown",
   "metadata": {},
   "source": [
    "# DFS"
   ]
  },
  {
   "cell_type": "code",
   "execution_count": 11,
   "metadata": {},
   "outputs": [],
   "source": [
    "# Now let us implement DFS\n",
    "class Node1(Node):\n",
    "    def __init__(self, **kwargs):\n",
    "        super(Node1, self).__init__(**kwargs)\n",
    "\n",
    "    def DFS(self, goal_state):\n",
    "        start = time.time()\n",
    "        frontier = [self]  # queue of found but unvisited nodes, FILO\n",
    "        ft = set()\n",
    "        ft.add(tuple(self.state.reshape(9,)))\n",
    "        # A version of the frontier that contains only states, not nodes\n",
    "        # This is version is required because Python is slow, and having this numeric version\n",
    "        # will make things much faster.\n",
    "        frontier_max_size = len(frontier)\n",
    "        explored = set([])\n",
    "        ct = 0\n",
    "        while frontier:\n",
    "            ct += 1\n",
    "            print(ct, end='\\r')\n",
    "            if len(frontier) > frontier_max_size: frontier_max_size = len(frontier)\n",
    "            current_node = frontier.pop()  # FILO            \n",
    "            ft.remove(tuple(current_node.state.reshape(9,)))\n",
    "            explored.add(tuple(current_node.state.reshape(9,)))  # cause we are going to explore it.\n",
    "\n",
    "            if np.array_equal(current_node.state, goal_state):\n",
    "                print('Time required = ', -start + time.time())\n",
    "                print('Explored states = ', len(explored))\n",
    "                print('Frontier max size = ', frontier_max_size)\n",
    "                self.done(current_node)\n",
    "                return True  # This return is for BFS method. It is a mean to break out of the while loop.\n",
    "\n",
    "            actions = self.explore_actions(current_node.state)  # branches that can come out\n",
    "            for anaction in actions:  # add exploration results to the frontier.\n",
    "                new_state = self.world_dynamics(current_node.state, anaction)\n",
    "                if tuple(new_state.reshape(9,)) not in explored:\n",
    "                    if tuple(new_state.reshape(9,)) not in ft:\n",
    "                        new_node = Node1(state=new_state, parent=current_node, action=anaction, depth=current_node.depth+1)\n",
    "                        frontier.append(new_node)\n",
    "                        ft.add(tuple(new_state.reshape(9,)))\n",
    "        print('Failed to reach target goal. Number of states explored = ')\n",
    "        return len(explored)"
   ]
  },
  {
   "cell_type": "code",
   "execution_count": 12,
   "metadata": {},
   "outputs": [],
   "source": [
    "root_node1 = Node1(state=initial_state)"
   ]
  },
  {
   "cell_type": "code",
   "execution_count": 13,
   "metadata": {
    "scrolled": false
   },
   "outputs": [
    {
     "name": "stdout",
     "output_type": "stream",
     "text": [
      "Time required =  20.976402521133423\n",
      "Explored states =  52624\n",
      "Frontier max size =  33372\n",
      "Number of steps to the goal =  46982\n",
      "Too many steps to be printed\n"
     ]
    },
    {
     "data": {
      "text/plain": "True"
     },
     "execution_count": 13,
     "metadata": {},
     "output_type": "execute_result"
    }
   ],
   "source": [
    "root_node1.DFS(goal_state)"
   ]
  },
  {
   "cell_type": "markdown",
   "metadata": {},
   "source": [
    "# Uinform cost search"
   ]
  },
  {
   "cell_type": "code",
   "execution_count": 14,
   "metadata": {},
   "outputs": [],
   "source": [
    "class Node2(Node1):  # this way, we will inheret DFS and BFS methods\n",
    "    def __init__(self, path_cost=0, **kwargs):\n",
    "        super(Node2, self).__init__(**kwargs)\n",
    "        self.path_cost = path_cost\n",
    "\n",
    "    def whos_next_UCS(self, frontier):  \n",
    "        return np.argmin([anelement.path_cost for anelement in frontier])\n",
    "    \n",
    "    def UCS(self, goal_state):\n",
    "        start = time.time()\n",
    "        frontier = [self] \n",
    "        frontier_max_size = len(frontier)\n",
    "        explored = set([])\n",
    "        \n",
    "        while frontier:\n",
    "            if len(frontier) > frontier_max_size: frontier_max_size = len(frontier)\n",
    "            index = self.whos_next_UCS(frontier)\n",
    "            current_node = frontier[index] # select, then remove the first node in the queue\n",
    "            del frontier[index]\n",
    "            print(len(frontier), end='\\r')\n",
    "            \n",
    "            explored.add(tuple(current_node.state.reshape(9,)))  # cause we are going to explore it.\n",
    "\n",
    "            if np.array_equal(current_node.state, goal_state):\n",
    "                print('Time required = ', -start + time.time())\n",
    "                print('Explored states = ', len(explored))\n",
    "                print('Frontier max size = ', frontier_max_size)\n",
    "                print('Cost of solution path = ', current_node.path_cost)\n",
    "                self.done(current_node)\n",
    "                return True  # This return is for BFS method. It is a mean to break out of the while loop.\n",
    "            \n",
    "            actions = self.explore_actions(current_node.state)  # branches that can come out\n",
    "            for anaction in actions:  # add exploration results to the frontier.\n",
    "                new_state = self.world_dynamics(current_node.state, anaction)\n",
    "                if tuple(new_state.reshape(9,)) not in explored:  \n",
    "                    # Consider to add another check for child not being in frontier.\n",
    "                    new_node = Node2(state=new_state, parent=current_node, action=anaction, depth=current_node.depth+1,\n",
    "                                   path_cost=current_node.path_cost+cost_dict[anaction])\n",
    "                    frontier.append(new_node)\n",
    "        print('Failed to reach target goal. Number of states explored = ')\n",
    "        return len(explored)"
   ]
  },
  {
   "cell_type": "code",
   "execution_count": 15,
   "metadata": {},
   "outputs": [],
   "source": [
    "cost_dict = {'up':1, 'down':2, 'left':3, 'right':4}"
   ]
  },
  {
   "cell_type": "code",
   "execution_count": 16,
   "metadata": {},
   "outputs": [],
   "source": [
    "root_node3 = Node2(state=initial_state)"
   ]
  },
  {
   "cell_type": "code",
   "execution_count": 17,
   "metadata": {},
   "outputs": [
    {
     "name": "stdout",
     "output_type": "stream",
     "text": [
      "Time required =  986.5350604057312\n",
      "Explored states =  108250\n",
      "Frontier max size =  54919\n",
      "Cost of solution path =  56\n",
      "Number of steps to the goal =  24\n",
      "[[1 2 3]\n",
      " [8 6 4]\n",
      " [7 5 0]] \n",
      "\n",
      "[[1 2 3]\n",
      " [8 6 0]\n",
      " [7 5 4]] \n",
      "\n",
      "[[1 2 3]\n",
      " [8 0 6]\n",
      " [7 5 4]] \n",
      "\n",
      "[[1 0 3]\n",
      " [8 2 6]\n",
      " [7 5 4]] \n",
      "\n",
      "[[1 3 0]\n",
      " [8 2 6]\n",
      " [7 5 4]] \n",
      "\n",
      "[[1 3 6]\n",
      " [8 2 0]\n",
      " [7 5 4]] \n",
      "\n",
      "[[1 3 6]\n",
      " [8 2 4]\n",
      " [7 5 0]] \n",
      "\n",
      "[[1 3 6]\n",
      " [8 2 4]\n",
      " [7 0 5]] \n",
      "\n",
      "[[1 3 6]\n",
      " [8 0 4]\n",
      " [7 2 5]] \n",
      "\n",
      "[[1 3 6]\n",
      " [0 8 4]\n",
      " [7 2 5]] \n",
      "\n",
      "[[0 3 6]\n",
      " [1 8 4]\n",
      " [7 2 5]] \n",
      "\n",
      "[[3 0 6]\n",
      " [1 8 4]\n",
      " [7 2 5]] \n",
      "\n",
      "[[3 8 6]\n",
      " [1 0 4]\n",
      " [7 2 5]] \n",
      "\n",
      "[[3 8 6]\n",
      " [1 4 0]\n",
      " [7 2 5]] \n",
      "\n",
      "[[3 8 6]\n",
      " [1 4 5]\n",
      " [7 2 0]] \n",
      "\n",
      "[[3 8 6]\n",
      " [1 4 5]\n",
      " [7 0 2]] \n",
      "\n",
      "[[3 8 6]\n",
      " [1 4 5]\n",
      " [0 7 2]] \n",
      "\n",
      "[[3 8 6]\n",
      " [0 4 5]\n",
      " [1 7 2]] \n",
      "\n",
      "[[3 8 6]\n",
      " [4 0 5]\n",
      " [1 7 2]] \n",
      "\n",
      "[[3 0 6]\n",
      " [4 8 5]\n",
      " [1 7 2]] \n",
      "\n",
      "[[0 3 6]\n",
      " [4 8 5]\n",
      " [1 7 2]] \n",
      "\n",
      "[[4 3 6]\n",
      " [0 8 5]\n",
      " [1 7 2]] \n",
      "\n",
      "[[4 3 6]\n",
      " [8 0 5]\n",
      " [1 7 2]] \n",
      "\n",
      "[[4 3 6]\n",
      " [8 7 5]\n",
      " [1 0 2]] \n",
      "\n"
     ]
    },
    {
     "data": {
      "text/plain": "True"
     },
     "execution_count": 17,
     "metadata": {},
     "output_type": "execute_result"
    }
   ],
   "source": [
    "root_node3.UCS(goal_state)"
   ]
  }
 ],
 "metadata": {
  "kernelspec": {
   "display_name": "Python 3",
   "language": "python",
   "name": "python3"
  },
  "language_info": {
   "codemirror_mode": {
    "name": "ipython",
    "version": 3
   },
   "file_extension": ".py",
   "mimetype": "text/x-python",
   "name": "python",
   "nbconvert_exporter": "python",
   "pygments_lexer": "ipython3",
   "version": "3.7.3"
  },
  "pycharm": {
   "stem_cell": {
    "cell_type": "raw",
    "source": [],
    "metadata": {
     "collapsed": false
    }
   }
  }
 },
 "nbformat": 4,
 "nbformat_minor": 2
}